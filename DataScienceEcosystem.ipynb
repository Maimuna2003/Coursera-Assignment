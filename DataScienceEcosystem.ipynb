{
  "cells": [
    {
      "cell_type": "markdown",
      "metadata": {
        "id": "view-in-github",
        "colab_type": "text"
      },
      "source": [
        "<a href=\"https://colab.research.google.com/github/Maimuna2003/Coursera-Assignment/blob/main/DataScienceEcosystem.ipynb\" target=\"_parent\"><img src=\"https://colab.research.google.com/assets/colab-badge.svg\" alt=\"Open In Colab\"/></a>"
      ]
    },
    {
      "cell_type": "markdown",
      "metadata": {
        "id": "rGkEjXWFO_Hr"
      },
      "source": [
        "<center>\n",
        "    <img src=\"https://cf-courses-data.s3.us.cloud-object-storage.appdomain.cloud/IBMDeveloperSkillsNetwork-DS0105EN-SkillsNetwork/labs/Module2/images/SN_web_lightmode.png\" width=\"300\" alt=\"cognitiveclass.ai logo\">\n",
        "</center>\n"
      ]
    },
    {
      "cell_type": "markdown",
      "metadata": {
        "id": "pP-iHJt2O_Hu"
      },
      "source": [
        "#### Add your code below following the instructions given in the course\n"
      ]
    },
    {
      "cell_type": "markdown",
      "metadata": {
        "id": "tMRHz2hTO_Hu"
      },
      "source": [
        "# Data Science Tools and Ecosystem\n"
      ]
    },
    {
      "cell_type": "markdown",
      "metadata": {
        "id": "M8DnTuHBO_Hv"
      },
      "source": [
        "In this notebook, Data Science Tools and Ecosystem are summarized."
      ]
    },
    {
      "cell_type": "markdown",
      "metadata": {
        "id": "_oWiX_GsO_Hv"
      },
      "source": [
        "**Objectives**\n",
        "-Creating Jupyter Notebook\n",
        "-Popular Languages for Data Science\n",
        "-Data Science Tools\n",
        "-RStudio and GitHub    \n"
      ]
    },
    {
      "cell_type": "markdown",
      "metadata": {
        "id": "TG7VzBhBO_Hv"
      },
      "source": [
        "Some of the popular languages that Data Scientists use are:\n",
        "1.Python\n",
        "2.Java\n",
        "3.Scala"
      ]
    },
    {
      "cell_type": "markdown",
      "metadata": {
        "id": "LIdCFXeIO_Hv"
      },
      "source": [
        "Some of the commonly used libraries used by Data Scientits include:\n",
        "1.Pandas\n",
        "2.Numpy\n",
        "3.Matplotlib\n",
        "4.Seaborn"
      ]
    },
    {
      "cell_type": "markdown",
      "metadata": {
        "id": "Cv_lmk7wO_Hw"
      },
      "source": [
        "Data Science Tools\n",
        "------------------|\n",
        "Jupyter Lab|\n",
        "RStudio|\n",
        "Spyder|"
      ]
    },
    {
      "cell_type": "markdown",
      "metadata": {
        "id": "MUeo3qW5O_Hw"
      },
      "source": [
        "### Below are a few examples of evaluating arithmetic expressions in python"
      ]
    },
    {
      "cell_type": "code",
      "execution_count": null,
      "metadata": {
        "id": "1llNwKEuO_Hw",
        "outputId": "11b8763d-febf-450c-cd0c-3f4231d6da3a"
      },
      "outputs": [
        {
          "data": {
            "text/plain": [
              "17"
            ]
          },
          "execution_count": 2,
          "metadata": {},
          "output_type": "execute_result"
        }
      ],
      "source": [
        "# This a simple arithmetic expresssion to multiply then add integers\n",
        "(3*4)+5"
      ]
    },
    {
      "cell_type": "code",
      "execution_count": null,
      "metadata": {
        "id": "OJSVGTSIO_Hx",
        "outputId": "76cde646-55c4-4e66-ab45-5e6eec35efc9"
      },
      "outputs": [
        {
          "data": {
            "text/plain": [
              "3.3333333333333335"
            ]
          },
          "execution_count": 4,
          "metadata": {},
          "output_type": "execute_result"
        }
      ],
      "source": [
        "# This will convert 200 minutes to hours by dividing by 60\n",
        "200/60"
      ]
    },
    {
      "cell_type": "markdown",
      "metadata": {
        "id": "f_XGZRoNO_Hy"
      },
      "source": [
        "## Author\n",
        "Maimuna"
      ]
    },
    {
      "cell_type": "code",
      "execution_count": null,
      "metadata": {
        "id": "BSmNXyRLO_Hy"
      },
      "outputs": [],
      "source": []
    }
  ],
  "metadata": {
    "kernelspec": {
      "display_name": "Python 3 (ipykernel)",
      "language": "python",
      "name": "python3"
    },
    "language_info": {
      "codemirror_mode": {
        "name": "ipython",
        "version": 3
      },
      "file_extension": ".py",
      "mimetype": "text/x-python",
      "name": "python",
      "nbconvert_exporter": "python",
      "pygments_lexer": "ipython3",
      "version": "3.12.8"
    },
    "colab": {
      "provenance": [],
      "include_colab_link": true
    }
  },
  "nbformat": 4,
  "nbformat_minor": 0
}